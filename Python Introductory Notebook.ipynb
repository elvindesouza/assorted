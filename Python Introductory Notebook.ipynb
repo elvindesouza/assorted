{
  "nbformat": 4,
  "nbformat_minor": 0,
  "metadata": {
    "colab": {
      "name": ".ipynb",
      "provenance": [],
      "authorship_tag": "ABX9TyOe5R/OADzSRdxrCw+owLru",
      "include_colab_link": true
    },
    "kernelspec": {
      "name": "python3",
      "display_name": "Python 3"
    },
    "language_info": {
      "name": "python"
    }
  },
  "cells": [
    {
      "cell_type": "markdown",
      "metadata": {
        "id": "view-in-github",
        "colab_type": "text"
      },
      "source": [
        "<a href=\"https://colab.research.google.com/github/elvindsouza/assorted/blob/master/Python%20Introductory%20Notebook.ipynb\" target=\"_parent\"><img src=\"https://colab.research.google.com/assets/colab-badge.svg\" alt=\"Open In Colab\"/></a>"
      ]
    },
    {
      "cell_type": "code",
      "metadata": {
        "colab": {
          "base_uri": "https://localhost:8080/"
        },
        "id": "RH8uv6UrfRzm",
        "outputId": "114de09f-9b20-4445-c6d8-03c02032a6db"
      },
      "source": [
        "name=input(\"Name\\n>\")\n",
        "age=int(input(\"Age\\n>\"))\n",
        "status=input(\"Is he new?\\n>\")"
      ],
      "execution_count": 1,
      "outputs": [
        {
          "output_type": "stream",
          "text": [
            "Name\n",
            ">Namegoeshere\n",
            "Age\n",
            ">19\n",
            "Is he new?\n",
            ">no\n"
          ],
          "name": "stdout"
        }
      ]
    },
    {
      "cell_type": "code",
      "metadata": {
        "id": "lNlX0-ooy7u1"
      },
      "source": [
        "\n",
        "name=input(\"Name\\n>\")\n",
        "fav_colour=input(\"Favourite colour:\\n>\")\n",
        "print(f\"{name} likes {fav_colour}\")\n"
      ],
      "execution_count": null,
      "outputs": []
    },
    {
      "cell_type": "code",
      "metadata": {
        "id": "BMk_Yhbey-1_"
      },
      "source": [
        "wt_raw=int(input(\"Enter your weight along with which unit system:\\n>\"))\n",
        "current=input(\"Units? enter \\\"kg\\\" or \\\"lbs\\\"\")\n",
        "if current==\"kg\":\n",
        "    wt_lbs=wt_raw*2.204623\n",
        "    print(\"Your weight in pounds would be\", wt_lbs)\n",
        "elif current==\"lbs\":\n",
        "    wt_kg=wt_raw*0.4535924\n",
        "    print(\"Your weight in kgs would be\",wt_kg )\n",
        "else:\n",
        "    print(\"invalid input\")\n",
        "        # exit(>)"
      ],
      "execution_count": null,
      "outputs": []
    },
    {
      "cell_type": "code",
      "metadata": {
        "id": "7zNinzNLzP-r"
      },
      "source": [
        "\n",
        "res=(2+3)*10-3\n",
        "print(res)\n",
        "\n"
      ],
      "execution_count": null,
      "outputs": []
    },
    {
      "cell_type": "code",
      "metadata": {
        "id": "Q0FJo7v8zS9w"
      },
      "source": [
        "\n",
        "price=1000000\n",
        "credit=bool()\n",
        "down_payment=float()\n",
        "response=input(\"Does the buyer have good credit?(reply with yes or no)\\n>\").lower().strip()\n",
        "if response==\"yes\":\n",
        "    down_payment=(price*10)/100\n",
        "elif response==\"no\":\n",
        "    down_payment=(price*20)/100\n",
        "print(f\"The buyer has to pay {down_payment} dollars down\")\n"
      ],
      "execution_count": null,
      "outputs": []
    },
    {
      "cell_type": "code",
      "metadata": {
        "id": "gyU1IqhTzV6E"
      },
      "source": [
        "\n",
        "iters=[5,2,5,2,2]\n",
        "for iter in iters:\n",
        "    print(\"0\"*iter)\n",
        "\n"
      ],
      "execution_count": null,
      "outputs": []
    },
    {
      "cell_type": "code",
      "metadata": {
        "id": "hecAnoeOzdAS"
      },
      "source": [
        "\n",
        "import random\n",
        "numlist=[random.randint(1,100) for i in range(15)]\n",
        "print(numlist)\n",
        "num_max=0\n",
        "for num in numlist:\n",
        "    if num>num_max:\n",
        "        num_max=num\n",
        "print(num_max)\n"
      ],
      "execution_count": null,
      "outputs": []
    },
    {
      "cell_type": "code",
      "metadata": {
        "id": "RzoJ4nxGzffr"
      },
      "source": [
        "\n",
        "import random\n",
        "numlist=[random.randint(1,100) for i in range(15)]\n",
        "numlist_new=list()\n",
        "for num in numlist:\n",
        "    if num not in numlist_new:\n",
        "        numlist_new.append(num)\n",
        "print(numlist)\n",
        "print(numlist_new)"
      ],
      "execution_count": null,
      "outputs": []
    },
    {
      "cell_type": "code",
      "metadata": {
        "id": "bQ6CaG_fzjjn"
      },
      "source": [
        "\n",
        "import  random\n",
        "class Dice():\n",
        "    \"\"\"Class with a single method used for rolling a dice\"\"\"\n",
        "    def __init__(self, dicename):\n",
        "        self.dicename=dicename\n",
        "\n",
        "    def roll(self):\n",
        "        return random.randint(1,6)\n",
        "\n",
        "myDice=Dice(\"Dice1\")\n",
        "while input(\">\")==\"roll\":\n",
        "    print(\"rolling\",myDice.dicename, \".....\")\n",
        "    print(myDice.roll())\n",
        "\n"
      ],
      "execution_count": null,
      "outputs": []
    }
  ]
}